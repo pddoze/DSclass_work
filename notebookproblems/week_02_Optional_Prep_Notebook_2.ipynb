{
 "cells": [
  {
   "cell_type": "markdown",
   "id": "f35645dc",
   "metadata": {},
   "source": [
    "# Prep Notebook 2\n",
    "## Data Collection\n",
    "\n",
    "This optional notebook has a few exercises that can serve as a primer for what to expect in the `Problem Session 2` notebook."
   ]
  },
  {
   "cell_type": "markdown",
   "id": "f5952182",
   "metadata": {},
   "source": [
    "#### 1. `for` loops\n",
    "\n",
    "Write a `for` loop that prints out every multiple of $11$ between $56$ and $203$"
   ]
  },
  {
   "cell_type": "code",
   "execution_count": 8,
   "id": "8bccf99a",
   "metadata": {},
   "outputs": [
    {
     "data": {
      "text/plain": [
       "[66, 77, 88, 99, 110, 121, 132, 143, 154, 165, 176, 187, 198]"
      ]
     },
     "execution_count": 8,
     "metadata": {},
     "output_type": "execute_result"
    }
   ],
   "source": [
    "## code here\n",
    "[i for i in range(56,204) if (i%11)==0]"
   ]
  },
  {
   "cell_type": "markdown",
   "id": "94768c2f",
   "metadata": {},
   "source": [
    "#### 2. List comprehensions I\n",
    "\n",
    "Write a list comprehension that stores every multiple of $11$ between $56$ to $203$"
   ]
  },
  {
   "cell_type": "code",
   "execution_count": 9,
   "id": "a43c9887",
   "metadata": {},
   "outputs": [
    {
     "data": {
      "text/plain": [
       "[66, 77, 88, 99, 110, 121, 132, 143, 154, 165, 176, 187, 198]"
      ]
     },
     "execution_count": 9,
     "metadata": {},
     "output_type": "execute_result"
    }
   ],
   "source": [
    "## code here\n",
    "n=[]\n",
    "[n.append(i) for i in range(56,204) if (i%11)==0]\n",
    "n"
   ]
  },
  {
   "cell_type": "markdown",
   "id": "7005e7ee",
   "metadata": {},
   "source": [
    "##### 3. List comprehensions II\n",
    "\n",
    "Write list comprehensions that returns only the vowels for the strings stored in `string_1` and `string_2`."
   ]
  },
  {
   "cell_type": "code",
   "execution_count": 11,
   "id": "28590be2",
   "metadata": {},
   "outputs": [],
   "source": [
    "string_1 = \"B is for balloon. A source of litter.\"\n",
    "string_2 = \"Y is for yellow. The color of a cartoon sun.\""
   ]
  },
  {
   "cell_type": "code",
   "execution_count": 17,
   "id": "23d17ee9",
   "metadata": {},
   "outputs": [
    {
     "data": {
      "text/plain": [
       "['i',\n",
       " 'o',\n",
       " 'a',\n",
       " 'o',\n",
       " 'o',\n",
       " 'a',\n",
       " 'o',\n",
       " 'u',\n",
       " 'e',\n",
       " 'o',\n",
       " 'i',\n",
       " 'e',\n",
       " 'i',\n",
       " 'o',\n",
       " 'e',\n",
       " 'o',\n",
       " 'e',\n",
       " 'o',\n",
       " 'o',\n",
       " 'o',\n",
       " 'a',\n",
       " 'a',\n",
       " 'o',\n",
       " 'o',\n",
       " 'u']"
      ]
     },
     "execution_count": 17,
     "metadata": {},
     "output_type": "execute_result"
    }
   ],
   "source": [
    "## code here\n",
    "string3 = string_1+string_2\n",
    "string3 = string3.lower()\n",
    "[i for i in string3 if i =='a' or i=='e' or i=='i'or i=='o'or i=='u']"
   ]
  },
  {
   "cell_type": "code",
   "execution_count": 18,
   "id": "29da0b13",
   "metadata": {},
   "outputs": [
    {
     "data": {
      "text/plain": [
       "['i',\n",
       " 'o',\n",
       " 'a',\n",
       " 'o',\n",
       " 'o',\n",
       " 'A',\n",
       " 'o',\n",
       " 'u',\n",
       " 'e',\n",
       " 'o',\n",
       " 'i',\n",
       " 'e',\n",
       " 'i',\n",
       " 'o',\n",
       " 'e',\n",
       " 'o',\n",
       " 'e',\n",
       " 'o',\n",
       " 'o',\n",
       " 'o',\n",
       " 'a',\n",
       " 'a',\n",
       " 'o',\n",
       " 'o',\n",
       " 'u']"
      ]
     },
     "execution_count": 18,
     "metadata": {},
     "output_type": "execute_result"
    }
   ],
   "source": [
    "## code here\n",
    "string4 = string_1+string_2\n",
    "[i for i in string4 if i in \"aeiouAEIOU\"]\n"
   ]
  },
  {
   "cell_type": "markdown",
   "id": "c6dfd961",
   "metadata": {},
   "source": [
    "#### 4. Find the mode of a `DataFrame` column.\n",
    "\n",
    "Using `pandas` functionality find the most frequent value in the `color` column of the `DataFrame` `df`."
   ]
  },
  {
   "cell_type": "code",
   "execution_count": 19,
   "id": "7d1f082e",
   "metadata": {},
   "outputs": [],
   "source": [
    "import pandas as pd"
   ]
  },
  {
   "cell_type": "code",
   "execution_count": 20,
   "id": "c5a23942",
   "metadata": {},
   "outputs": [],
   "source": [
    "df = pd.DataFrame({'color':['red', 'red', 'red', 'dodgerblue', 'black', 'black'],\n",
    "                      'markersize':[50, 70, 120, 210, 40, 110],\n",
    "                      'x':[0, 1, 2, 3, 2, 3],\n",
    "                      'y':[-4, -2, 0, 2, 4, 6]})"
   ]
  },
  {
   "cell_type": "code",
   "execution_count": 21,
   "id": "3b819e3e",
   "metadata": {},
   "outputs": [
    {
     "data": {
      "text/plain": [
       "0    red\n",
       "Name: color, dtype: object"
      ]
     },
     "execution_count": 21,
     "metadata": {},
     "output_type": "execute_result"
    }
   ],
   "source": [
    "## code here\n",
    "df['color'].mode()\n"
   ]
  },
  {
   "cell_type": "markdown",
   "id": "f591a0bd",
   "metadata": {},
   "source": [
    "##### 5. Sort a `DataFrame`\n",
    "\n",
    "Display the `DataFrame` `df` by `markersize` in desending order."
   ]
  },
  {
   "cell_type": "code",
   "execution_count": 23,
   "id": "6a129100",
   "metadata": {},
   "outputs": [
    {
     "data": {
      "text/html": [
       "<div>\n",
       "<style scoped>\n",
       "    .dataframe tbody tr th:only-of-type {\n",
       "        vertical-align: middle;\n",
       "    }\n",
       "\n",
       "    .dataframe tbody tr th {\n",
       "        vertical-align: top;\n",
       "    }\n",
       "\n",
       "    .dataframe thead th {\n",
       "        text-align: right;\n",
       "    }\n",
       "</style>\n",
       "<table border=\"1\" class=\"dataframe\">\n",
       "  <thead>\n",
       "    <tr style=\"text-align: right;\">\n",
       "      <th></th>\n",
       "      <th>color</th>\n",
       "      <th>markersize</th>\n",
       "      <th>x</th>\n",
       "      <th>y</th>\n",
       "    </tr>\n",
       "  </thead>\n",
       "  <tbody>\n",
       "    <tr>\n",
       "      <th>3</th>\n",
       "      <td>dodgerblue</td>\n",
       "      <td>210</td>\n",
       "      <td>3</td>\n",
       "      <td>2</td>\n",
       "    </tr>\n",
       "    <tr>\n",
       "      <th>2</th>\n",
       "      <td>red</td>\n",
       "      <td>120</td>\n",
       "      <td>2</td>\n",
       "      <td>0</td>\n",
       "    </tr>\n",
       "    <tr>\n",
       "      <th>5</th>\n",
       "      <td>black</td>\n",
       "      <td>110</td>\n",
       "      <td>3</td>\n",
       "      <td>6</td>\n",
       "    </tr>\n",
       "    <tr>\n",
       "      <th>1</th>\n",
       "      <td>red</td>\n",
       "      <td>70</td>\n",
       "      <td>1</td>\n",
       "      <td>-2</td>\n",
       "    </tr>\n",
       "    <tr>\n",
       "      <th>0</th>\n",
       "      <td>red</td>\n",
       "      <td>50</td>\n",
       "      <td>0</td>\n",
       "      <td>-4</td>\n",
       "    </tr>\n",
       "    <tr>\n",
       "      <th>4</th>\n",
       "      <td>black</td>\n",
       "      <td>40</td>\n",
       "      <td>2</td>\n",
       "      <td>4</td>\n",
       "    </tr>\n",
       "  </tbody>\n",
       "</table>\n",
       "</div>"
      ],
      "text/plain": [
       "        color  markersize  x  y\n",
       "3  dodgerblue         210  3  2\n",
       "2         red         120  2  0\n",
       "5       black         110  3  6\n",
       "1         red          70  1 -2\n",
       "0         red          50  0 -4\n",
       "4       black          40  2  4"
      ]
     },
     "execution_count": 23,
     "metadata": {},
     "output_type": "execute_result"
    }
   ],
   "source": [
    "## code here\n",
    "df.sort_values(by=['markersize'], ascending=False)\n"
   ]
  },
  {
   "cell_type": "markdown",
   "id": "24b6c9d8",
   "metadata": {},
   "source": [
    "#### 6. Scatter plot\n",
    "\n",
    "Using `matplotlib`'s `scatter`, <a href=\"https://matplotlib.org/3.5.0/api/_as_gen/matplotlib.pyplot.scatter.html\">https://matplotlib.org/3.5.0/api/_as_gen/matplotlib.pyplot.scatter.html</a>, plot the observations in the `DataFrame` `df` placing the `x` value on the horizontal axis and the `y` value on the vertical axis.\n",
    "\n",
    "<i>Bonus points if you can set the `color`, and `size` of the points using the `color`, and `size` columns of `df`</i>."
   ]
  },
  {
   "cell_type": "code",
   "execution_count": 24,
   "id": "ebd81c95",
   "metadata": {},
   "outputs": [],
   "source": [
    "import matplotlib.pyplot as plt\n",
    "from seaborn import set_style\n",
    "\n",
    "set_style(\"whitegrid\")"
   ]
  },
  {
   "cell_type": "code",
   "execution_count": 27,
   "id": "95556983",
   "metadata": {},
   "outputs": [
    {
     "data": {
      "image/png": "[encoded data removed]",
      "text/plain": [
       "<Figure size 640x480 with 1 Axes>"
      ]
     },
     "metadata": {},
     "output_type": "display_data"
    }
   ],
   "source": [
    "## code here\n",
    "\n",
    "plt.scatter(df['x'],df['y'],color=df['color'],s=df['markersize'])\n",
    "plt.show()"
   ]
  },
  {
   "cell_type": "markdown",
   "id": "ddc0a369",
   "metadata": {},
   "source": [
    "--------------------------\n",
    "\n",
    "This notebook was written for the Erd&#337;s Institute C&#337;de Data Science Boot Camp by Matthew Osborne, Ph. D., 2023.\n",
    "\n",
    "Any potential redistributors must seek and receive permission from Matthew Tyler Osborne, Ph.D. prior to redistribution. Redistribution of the material contained in this repository is conditional on acknowledgement of Matthew Tyler Osborne, Ph.D.'s original authorship and sponsorship of the Erdős Institute as subject to the license (see License.md)"
   ]
  },
  {
   "cell_type": "code",
   "execution_count": null,
   "id": "cb832bad",
   "metadata": {},
   "outputs": [],
   "source": []
  }
 ],
 "metadata": {
  "kernelspec": {
   "display_name": "Python 3 (ipykernel)",
   "language": "python",
   "name": "python3"
  },
  "language_info": {
   "codemirror_mode": {
    "name": "ipython",
    "version": 3
   },
   "file_extension": ".py",
   "mimetype": "text/x-python",
   "name": "python",
   "nbconvert_exporter": "python",
   "pygments_lexer": "ipython3",
   "version": "3.11.7"
  }
 },
 "nbformat": 4,
 "nbformat_minor": 5
}
