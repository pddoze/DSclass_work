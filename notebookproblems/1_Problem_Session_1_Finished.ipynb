{
 "cells": [
  {
   "cell_type": "markdown",
   "id": "be3be057",
   "metadata": {},
   "source": [
    "# Problem Session 1\n",
    "\n",
    "This notebook will be your first problem solving session notebook. In the first problem solving session we will check that your computer is set up with python and you are able to access `jupyter notebook`s. Once that is done for your group you should work through the problems below. These problems touch on basic:\n",
    "- Python,\n",
    "- Coding,\n",
    "- `numpy`,\n",
    "- `pandas`, and\n",
    "- `matplotlib`.\n",
    "\n",
    "If your group runs into trouble, try to find a TA to assist you or answer your question(s).\n",
    "\n",
    "Have fun!"
   ]
  },
  {
   "cell_type": "markdown",
   "id": "7ee9b08b",
   "metadata": {},
   "source": [
    "##### 1. a) \n",
    "\n",
    "Import `pandas`, `numpy` and `matplotlib`. Then using `.__version__` check the version each member of your group has, see if everyone has the same version or if people have different versions."
   ]
  },
  {
   "cell_type": "code",
   "execution_count": 1,
   "id": "4692eff5",
   "metadata": {},
   "outputs": [],
   "source": [
    "## Code here\n",
    "import pandas as pd\n",
    "import numpy as np\n",
    "import matplotlib\n",
    "import matplotlib.pyplot as plt\n"
   ]
  },
  {
   "cell_type": "code",
   "execution_count": 7,
   "id": "9ffe3d51",
   "metadata": {},
   "outputs": [
    {
     "name": "stdout",
     "output_type": "stream",
     "text": [
      "1.5.3\n",
      "1.26.3\n",
      "3.7.2\n"
     ]
    }
   ],
   "source": [
    "## Code here\n",
    "print(pd.__version__)\n",
    "print(np.__version__)\n",
    "print(matplotlib.__version__)"
   ]
  },
  {
   "cell_type": "code",
   "execution_count": 77,
   "id": "aec0f1ec",
   "metadata": {},
   "outputs": [],
   "source": [
    "## Code here\n",
    "\n",
    "import random"
   ]
  },
  {
   "cell_type": "markdown",
   "id": "ad114c18",
   "metadata": {},
   "source": [
    "##### 1. b)\n",
    "\n",
    "Suppose two members of your group try and run the exact same chunk of python code. Could you think of a python package-related reason why that code might work for one group member but not the other?"
   ]
  },
  {
   "cell_type": "markdown",
   "id": "859e5e84",
   "metadata": {},
   "source": [
    "##### Write here\n",
    "They could have different versions of the same packages or different versions of the dependencies that the packages need downloaded.\n",
    "\n"
   ]
  },
  {
   "cell_type": "markdown",
   "id": "efb521af",
   "metadata": {},
   "source": [
    "##### 2. Is divisble by\n",
    "\n",
    "In this problem you will work to write a function that checks if a given positive integer is divisible by another given positive integer. Work through the parts below.\n",
    "\n",
    "##### a)\n",
    "\n",
    "We say that one positive integer, $a$, is divisble by another positive integer, $b$, if there is no remainder after dividing $a$ by $b$. Play around with `%` and `//` as python operations to see which one will be most useful for your function."
   ]
  },
  {
   "cell_type": "code",
   "execution_count": 9,
   "id": "1f92c635",
   "metadata": {},
   "outputs": [
    {
     "name": "stdout",
     "output_type": "stream",
     "text": [
      "modulus:  2\n",
      "floor division:  0\n"
     ]
    }
   ],
   "source": [
    "## code here\n",
    "a = 2\n",
    "b = 8\n",
    "c = a % b\n",
    "d = a // b\n",
    "print('modulus: ',c)\n",
    "print('floor division: ',d)\n"
   ]
  },
  {
   "cell_type": "code",
   "execution_count": 10,
   "id": "01111a91",
   "metadata": {},
   "outputs": [
    {
     "name": "stdout",
     "output_type": "stream",
     "text": [
      "modulus:  0\n",
      "floor division:  4\n"
     ]
    }
   ],
   "source": [
    "## code here\n",
    "a = 8\n",
    "b = 2\n",
    "c = a % b\n",
    "d = a // b\n",
    "print('modulus: ',c)\n",
    "print('floor division: ',d)\n"
   ]
  },
  {
   "cell_type": "code",
   "execution_count": null,
   "id": "dcaf28ee",
   "metadata": {},
   "outputs": [],
   "source": [
    "## code here\n",
    "\n"
   ]
  },
  {
   "cell_type": "markdown",
   "id": "c030decc",
   "metadata": {},
   "source": [
    "##### b)\n",
    "\n",
    "Write a function that takes in two positive integers and determines if the first is divisible by the second. For the purposes of this question you can assume that the inputs will always be positive integers."
   ]
  },
  {
   "cell_type": "code",
   "execution_count": 11,
   "id": "10e2ac52",
   "metadata": {},
   "outputs": [],
   "source": [
    "## code here\n",
    "def divisible(a, b):\n",
    "    c = a % b\n",
    "    if c != 0:\n",
    "        print('Not divisible')\n",
    "    else:\n",
    "        print('Divisible')\n"
   ]
  },
  {
   "cell_type": "code",
   "execution_count": 15,
   "id": "956c9b70",
   "metadata": {},
   "outputs": [
    {
     "name": "stdout",
     "output_type": "stream",
     "text": [
      "Not divisible\n"
     ]
    }
   ],
   "source": [
    "## code here\n",
    "divisible(7,2)\n"
   ]
  },
  {
   "cell_type": "markdown",
   "id": "2ccd44e0",
   "metadata": {},
   "source": [
    "##### c)\n",
    "\n",
    "How would your function have needed to change if you were not able to assume that the inputs would always be positive integers?"
   ]
  },
  {
   "cell_type": "markdown",
   "id": "1cd2b30d",
   "metadata": {},
   "source": [
    "##### Write here\n",
    "I would either start the funciton be checking if all the inputs are positive and if not throw an error, or, apply an absolute value to all the input values first.\n"
   ]
  },
  {
   "cell_type": "markdown",
   "id": "a5c450cd",
   "metadata": {},
   "source": [
    "##### 3. Palindrome checker\n",
    "\n",
    "A palindrome is a word or sentence that has the same sequence of letters regardless of whether the text is written correctly or in reverse. For example \"taco cat\" is a palindrome.\n",
    "\n",
    "Work through the following problems to build a palindrome detection function.\n",
    "\n",
    "<i>Note: We will assume that the text we want to check is free of punctuation</i>\n",
    "\n",
    "##### a)\n",
    "\n",
    "In this problem we are only considering string palindromes. Write a function that takes in an argument and checks if it is a string. Test your function using the variables defined in the code chunk below."
   ]
  },
  {
   "cell_type": "code",
   "execution_count": 31,
   "id": "a007c98c",
   "metadata": {},
   "outputs": [],
   "source": [
    "a = 200903\n",
    "b = 'apple'\n",
    "c = [1,2,3,'1','2','3']\n",
    "d = False"
   ]
  },
  {
   "cell_type": "code",
   "execution_count": 39,
   "id": "c1935c54",
   "metadata": {},
   "outputs": [],
   "source": [
    "## Code here\n",
    "def is_string(value):\n",
    "    if type(value) == str:\n",
    "        return True\n",
    "    else:\n",
    "        return False\n"
   ]
  },
  {
   "cell_type": "code",
   "execution_count": 47,
   "id": "6af70180",
   "metadata": {},
   "outputs": [
    {
     "name": "stdout",
     "output_type": "stream",
     "text": [
      "False\n",
      "True\n",
      "False\n",
      "False\n"
     ]
    }
   ],
   "source": [
    "## Code here\n",
    "print(is_string(a))\n",
    "print(is_string(b))\n",
    "print(is_string(c))\n",
    "print(is_string(d))"
   ]
  },
  {
   "cell_type": "code",
   "execution_count": null,
   "id": "c4640b11",
   "metadata": {},
   "outputs": [],
   "source": [
    "## Code here\n",
    "\n"
   ]
  },
  {
   "cell_type": "code",
   "execution_count": null,
   "id": "cc93a0bd",
   "metadata": {},
   "outputs": [],
   "source": [
    "## Code here\n",
    "\n"
   ]
  },
  {
   "cell_type": "code",
   "execution_count": null,
   "id": "ab463511",
   "metadata": {},
   "outputs": [],
   "source": [
    "## Code here\n",
    "\n"
   ]
  },
  {
   "cell_type": "markdown",
   "id": "95d71934",
   "metadata": {},
   "source": [
    "##### b)\n",
    "\n",
    "When we are checking if a piece of text is a palindrome we ignore spaces. Try using the `.replace()` string function to replace the spaces in the strings below with the empty string."
   ]
  },
  {
   "cell_type": "code",
   "execution_count": 49,
   "id": "be03226c",
   "metadata": {},
   "outputs": [],
   "source": [
    "a = 'Spongebob Squarepants'\n",
    "b = 'my name is James'\n",
    "c = 'Happy Birtday'"
   ]
  },
  {
   "cell_type": "code",
   "execution_count": 50,
   "id": "c32367cd",
   "metadata": {},
   "outputs": [
    {
     "name": "stdout",
     "output_type": "stream",
     "text": [
      "SpongebobSquarepants\n",
      "mynameisJames\n",
      "HappyBirtday\n"
     ]
    }
   ],
   "source": [
    "## code here\n",
    "a = a.replace(' ','')\n",
    "b = b.replace(' ','')\n",
    "c = c.replace(' ','')\n",
    "print(a)\n",
    "print(b)\n",
    "print(c)\n"
   ]
  },
  {
   "cell_type": "code",
   "execution_count": null,
   "id": "bbae40c5",
   "metadata": {},
   "outputs": [],
   "source": [
    "## code here\n",
    "\n"
   ]
  },
  {
   "cell_type": "code",
   "execution_count": null,
   "id": "82d1bdec",
   "metadata": {},
   "outputs": [],
   "source": [
    "## code here\n",
    "\n"
   ]
  },
  {
   "cell_type": "markdown",
   "id": "8601bdeb",
   "metadata": {},
   "source": [
    "##### c)\n",
    "\n",
    "We should also ignore the case of the letters. Try to make all of the letters in the strings stored in `a`, `b` and `c` from part b) the same case using `.lower()` or `.upper()`."
   ]
  },
  {
   "cell_type": "code",
   "execution_count": 51,
   "id": "15a6820a",
   "metadata": {},
   "outputs": [
    {
     "name": "stdout",
     "output_type": "stream",
     "text": [
      "spongebobsquarepants\n",
      "mynameisjames\n",
      "happybirtday\n"
     ]
    }
   ],
   "source": [
    "## code here\n",
    "a = a.lower()\n",
    "b = b.lower()\n",
    "c = c.lower()\n",
    "print(a)\n",
    "print(b)\n",
    "print(c)\n"
   ]
  },
  {
   "cell_type": "code",
   "execution_count": null,
   "id": "6f1a4131",
   "metadata": {},
   "outputs": [],
   "source": [
    "## code here\n",
    "\n"
   ]
  },
  {
   "cell_type": "code",
   "execution_count": null,
   "id": "3e4b7dd6",
   "metadata": {},
   "outputs": [],
   "source": [
    "## code here\n",
    "\n"
   ]
  },
  {
   "cell_type": "markdown",
   "id": "aa601794",
   "metadata": {},
   "source": [
    "##### d)\n",
    "\n",
    "Try and put parts a) - c) together and write a function that returns:\n",
    "- `True` if the input is a string and a palindrome, \n",
    "- `False` if the input is a string and not a palindrome, and\n",
    "- `None` if the input is not a string.\n",
    "\n",
    "Test your function on the strings defined below."
   ]
  },
  {
   "cell_type": "code",
   "execution_count": 71,
   "id": "3d31d7ab",
   "metadata": {},
   "outputs": [],
   "source": [
    "a = 'kayak'\n",
    "b = 'Patrick Star'\n",
    "c = 'A Man a Plan a Canal Panama'\n",
    "d = 9909028"
   ]
  },
  {
   "cell_type": "code",
   "execution_count": 66,
   "id": "694603ff",
   "metadata": {},
   "outputs": [],
   "source": [
    "## code here\n",
    "def palindrome(value):\n",
    "    if not is_string(value):\n",
    "        return None\n",
    "    if is_string(value):\n",
    "        value = value.replace(' ','').lower()\n",
    "        if value == value[::-1]:\n",
    "            return True\n",
    "        else:\n",
    "            return False\n"
   ]
  },
  {
   "cell_type": "code",
   "execution_count": 75,
   "id": "d700dda0",
   "metadata": {},
   "outputs": [
    {
     "name": "stdout",
     "output_type": "stream",
     "text": [
      "True\n",
      "False\n",
      "True\n",
      "None\n"
     ]
    }
   ],
   "source": [
    "## code here\n",
    "#a\n",
    "\n",
    "\n",
    "print(palindrome(a))\n",
    "print(palindrome(b))\n",
    "print(palindrome(c))\n",
    "print(palindrome(d))"
   ]
  },
  {
   "cell_type": "code",
   "execution_count": 65,
   "id": "c239e5cd",
   "metadata": {},
   "outputs": [
    {
     "data": {
      "text/plain": [
       "False"
      ]
     },
     "execution_count": 65,
     "metadata": {},
     "output_type": "execute_result"
    }
   ],
   "source": [
    "## code here\n",
    "value = 'howdy'\n",
    "value == value[::-1]\n"
   ]
  },
  {
   "cell_type": "markdown",
   "id": "abe8c435",
   "metadata": {},
   "source": [
    "##### 4. A coin flipping game\n",
    "\n",
    "Imagine you and a friend are playing a game in which you repeatedly flip a balanced coin. You win the game if the coin ever lands heads twice in a row. Your friend wins the game if the coin ever lands tails then heads. In this exercise you will code up this game in order to inspect the probability that you win.\n",
    "\n",
    "##### a)\n",
    "\n",
    "Using `numpy` or `random` code a function to simulate a balanced coin flip."
   ]
  },
  {
   "cell_type": "code",
   "execution_count": 80,
   "id": "e74be1cd",
   "metadata": {},
   "outputs": [
    {
     "name": "stdout",
     "output_type": "stream",
     "text": [
      "0\n"
     ]
    }
   ],
   "source": [
    "## code here\n",
    "flip = random.randint(0,1)\n",
    "print(flip)\n"
   ]
  },
  {
   "cell_type": "code",
   "execution_count": null,
   "id": "ac472aa1",
   "metadata": {},
   "outputs": [],
   "source": [
    "## code here\n",
    "\n"
   ]
  },
  {
   "cell_type": "code",
   "execution_count": null,
   "id": "a64db3b3",
   "metadata": {},
   "outputs": [],
   "source": [
    "## code here\n",
    "\n"
   ]
  },
  {
   "cell_type": "markdown",
   "id": "47a32dfd",
   "metadata": {},
   "source": [
    "##### b)\n",
    "\n",
    "Write a function to play the described game. Have the function print out the series of flips and the winner."
   ]
  },
  {
   "cell_type": "code",
   "execution_count": 92,
   "id": "d17731b2",
   "metadata": {},
   "outputs": [],
   "source": [
    "## code here\n",
    "#0 is heads 1 is tails\n",
    "def flipgame(verbose=False):\n",
    "    track = []\n",
    "    win = False\n",
    "    while win == False:\n",
    "        track.append(random.randint(0,1))\n",
    "        if len(track) <2:\n",
    "            continue\n",
    "        else:\n",
    "            if track[-1]==0 and track[-2]==0:\n",
    "                win=True\n",
    "                if verbose:\n",
    "                    print('Me')\n",
    "                    print(track)\n",
    "                return track, 'Me'\n",
    "            elif track[-1]==0 and track[-2]==1:\n",
    "                win=True\n",
    "                if verbose:\n",
    "                    print('Friend')\n",
    "                    print(track)\n",
    "                return track, 'Friend'\n",
    "\n"
   ]
  },
  {
   "cell_type": "code",
   "execution_count": 109,
   "id": "21e9b46e",
   "metadata": {},
   "outputs": [
    {
     "name": "stdout",
     "output_type": "stream",
     "text": [
      "Friend\n",
      "[0, 1, 1, 1, 0]\n"
     ]
    }
   ],
   "source": [
    "## code here\n",
    "record, winner = flipgame(True)\n"
   ]
  },
  {
   "cell_type": "code",
   "execution_count": 110,
   "id": "975f57ca",
   "metadata": {},
   "outputs": [
    {
     "name": "stdout",
     "output_type": "stream",
     "text": [
      "Friend\n",
      "[0, 1, 1, 1, 0]\n"
     ]
    }
   ],
   "source": [
    "## code here\n",
    "print(winner)\n",
    "print(record)\n",
    "\n"
   ]
  },
  {
   "cell_type": "markdown",
   "id": "34caf4d9",
   "metadata": {},
   "source": [
    "##### c)\n",
    "\n",
    "Run this game 1000 times, what fraction of the games do you win? What was the longest game?\n",
    "\n",
    "<i>Note: while it is possible to calculate the actual probability of you winning, just use that as a sanity check for your code.</i>"
   ]
  },
  {
   "cell_type": "code",
   "execution_count": 132,
   "id": "45521732",
   "metadata": {},
   "outputs": [],
   "source": [
    "## code here\n",
    "length = np.zeros(1000)\n",
    "winner = []\n",
    "for i in range(0,1000):\n",
    "    record, win = flipgame()\n",
    "    length[i] = len(record)\n",
    "    winner.append(win)\n"
   ]
  },
  {
   "cell_type": "code",
   "execution_count": 133,
   "id": "444ca7a3",
   "metadata": {},
   "outputs": [
    {
     "name": "stdout",
     "output_type": "stream",
     "text": [
      "16.0\n",
      "My win rate:  0.26\n",
      "Friend's win rate:  0.74\n"
     ]
    }
   ],
   "source": [
    "## code here\n",
    "print(length.max())\n",
    "\n",
    "indices = [index for index in range(0,1000) if winner[index]=='Me']\n",
    "indf = [index for index in range(0,1000) if winner[index]=='Friend']\n",
    "print('My win rate: ', len(indices)/1000)\n",
    "print('Friend\\'s win rate: ', len(indf)/1000)"
   ]
  },
  {
   "cell_type": "code",
   "execution_count": 118,
   "id": "6f92607b",
   "metadata": {},
   "outputs": [
    {
     "data": {
      "text/plain": [
       "array([0., 0., 0., 0., 0., 0., 0., 0., 0., 0.])"
      ]
     },
     "execution_count": 118,
     "metadata": {},
     "output_type": "execute_result"
    }
   ],
   "source": [
    "## code here\n",
    "\n",
    "np.zeros(10)"
   ]
  },
  {
   "cell_type": "markdown",
   "id": "9062dcdf",
   "metadata": {},
   "source": [
    "##### d) \n",
    "\n",
    "Does this seem to be a fair game for you?"
   ]
  },
  {
   "cell_type": "markdown",
   "id": "eee11f89",
   "metadata": {},
   "source": [
    "##### Write here\n",
    "Nope\n"
   ]
  },
  {
   "cell_type": "markdown",
   "id": "bc6e205a",
   "metadata": {},
   "source": [
    "##### 5. Analyzing cookie recipes\n",
    "\n",
    "In this problem you will practice using `pandas` and `matplotlib`. Complete parts a) through d).\n",
    "\n",
    "##### a)\n",
    "\n",
    "Read in the `cookie_recipes.csv` file from the `data` folder."
   ]
  },
  {
   "cell_type": "code",
   "execution_count": 11,
   "id": "82d1e6a2",
   "metadata": {},
   "outputs": [
    {
     "name": "stdout",
     "output_type": "stream",
     "text": [
      "<class 'pandas.core.frame.DataFrame'>\n",
      "RangeIndex: 50 entries, 0 to 49\n",
      "Data columns (total 6 columns):\n",
      " #   Column  Non-Null Count  Dtype  \n",
      "---  ------  --------------  -----  \n",
      " 0   flour   50 non-null     float64\n",
      " 1   butter  50 non-null     int64  \n",
      " 2   eggs    50 non-null     int64  \n",
      " 3   soda    50 non-null     int64  \n",
      " 4   chips   50 non-null     float64\n",
      " 5   rating  50 non-null     float64\n",
      "dtypes: float64(3), int64(3)\n",
      "memory usage: 2.5 KB\n"
     ]
    }
   ],
   "source": [
    "## code here\n",
    "cookiedf = pd.read_csv(\"cookie_recipes.csv\")\n",
    "cookiedf.info()"
   ]
  },
  {
   "cell_type": "markdown",
   "id": "a4904ec1",
   "metadata": {},
   "source": [
    "##### b)\n",
    "\n",
    "Look at a random sample of 3 rows. What columns are there?"
   ]
  },
  {
   "cell_type": "code",
   "execution_count": 4,
   "id": "34ca20d7",
   "metadata": {},
   "outputs": [
    {
     "data": {
      "text/html": [
       "<div>\n",
       "<style scoped>\n",
       "    .dataframe tbody tr th:only-of-type {\n",
       "        vertical-align: middle;\n",
       "    }\n",
       "\n",
       "    .dataframe tbody tr th {\n",
       "        vertical-align: top;\n",
       "    }\n",
       "\n",
       "    .dataframe thead th {\n",
       "        text-align: right;\n",
       "    }\n",
       "</style>\n",
       "<table border=\"1\" class=\"dataframe\">\n",
       "  <thead>\n",
       "    <tr style=\"text-align: right;\">\n",
       "      <th></th>\n",
       "      <th>flour</th>\n",
       "      <th>butter</th>\n",
       "      <th>eggs</th>\n",
       "      <th>soda</th>\n",
       "      <th>chips</th>\n",
       "      <th>rating</th>\n",
       "    </tr>\n",
       "  </thead>\n",
       "  <tbody>\n",
       "    <tr>\n",
       "      <th>11</th>\n",
       "      <td>1.5</td>\n",
       "      <td>6</td>\n",
       "      <td>1</td>\n",
       "      <td>4</td>\n",
       "      <td>1.50</td>\n",
       "      <td>4.00</td>\n",
       "    </tr>\n",
       "    <tr>\n",
       "      <th>4</th>\n",
       "      <td>1.5</td>\n",
       "      <td>10</td>\n",
       "      <td>3</td>\n",
       "      <td>3</td>\n",
       "      <td>0.75</td>\n",
       "      <td>2.75</td>\n",
       "    </tr>\n",
       "    <tr>\n",
       "      <th>37</th>\n",
       "      <td>1.5</td>\n",
       "      <td>10</td>\n",
       "      <td>3</td>\n",
       "      <td>4</td>\n",
       "      <td>2.00</td>\n",
       "      <td>5.00</td>\n",
       "    </tr>\n",
       "  </tbody>\n",
       "</table>\n",
       "</div>"
      ],
      "text/plain": [
       "    flour  butter  eggs  soda  chips  rating\n",
       "11    1.5       6     1     4   1.50    4.00\n",
       "4     1.5      10     3     3   0.75    2.75\n",
       "37    1.5      10     3     4   2.00    5.00"
      ]
     },
     "execution_count": 4,
     "metadata": {},
     "output_type": "execute_result"
    }
   ],
   "source": [
    "## code here\n",
    "cookiedf.sample(n=3)\n"
   ]
  },
  {
   "cell_type": "markdown",
   "id": "366bfdb5",
   "metadata": {},
   "source": [
    "##### c)\n",
    "\n",
    "What is the minimum number of eggs used over all recipes? the maximum?"
   ]
  },
  {
   "cell_type": "code",
   "execution_count": 5,
   "id": "474494d6",
   "metadata": {},
   "outputs": [
    {
     "name": "stdout",
     "output_type": "stream",
     "text": [
      "1\n",
      "3\n"
     ]
    }
   ],
   "source": [
    "## code here\n",
    "print(cookiedf['eggs'].min())\n",
    "print(cookiedf['eggs'].max())\n"
   ]
  },
  {
   "cell_type": "markdown",
   "id": "2f5b32fa",
   "metadata": {},
   "source": [
    "##### d)\n",
    "\n",
    "Plot the rating of the recipe against:\n",
    "- The amount of `butter` used,\n",
    "- The amount of `flour` users, and\n",
    "- The amount of chocolate `chips` used.\n",
    "\n",
    "Do any of these variables seem to be associated with the rating? If so how?"
   ]
  },
  {
   "cell_type": "code",
   "execution_count": 23,
   "id": "19bc5675",
   "metadata": {},
   "outputs": [
    {
     "data": {
      "image/png": "[encoded data removed]",
      "text/plain": [
       "<Figure size 640x480 with 1 Axes>"
      ]
     },
     "metadata": {},
     "output_type": "display_data"
    }
   ],
   "source": [
    "## code here\n",
    "plt.scatter(cookiedf['rating'],cookiedf['butter'],label='butter')\n",
    "plt.scatter(cookiedf['rating'],cookiedf['flour'],label='flour')\n",
    "plt.scatter(cookiedf['rating'],cookiedf['chips'],label='chips')\n",
    "plt.legend(loc='upper right', bbox_to_anchor=(1.21, 1.0))\n",
    "plt.xlabel('rating')\n",
    "plt.show()"
   ]
  },
  {
   "cell_type": "code",
   "execution_count": 10,
   "id": "04301ff5",
   "metadata": {},
   "outputs": [
    {
     "data": {
      "image/png": "[encoded data removed]",
      "text/plain": [
       "<Figure size 640x480 with 3 Axes>"
      ]
     },
     "metadata": {},
     "output_type": "display_data"
    }
   ],
   "source": [
    "## code here\n",
    "fig, (ax1, ax2, ax3) = plt.subplots(3,1,sharex=True)\n",
    "ax1.scatter(cookiedf['rating'],cookiedf['butter'])\n",
    "ax1.set_title('Butter')\n",
    "ax1.set_ylabel('Amount')\n",
    "ax2.scatter(cookiedf['rating'],cookiedf['flour'])\n",
    "ax2.set_title('Flour')\n",
    "ax2.set_ylabel('Amount')\n",
    "ax3.scatter(cookiedf['rating'],cookiedf['chips'])\n",
    "ax3.set_title('Chips')\n",
    "ax3.set_xlabel('Rating')\n",
    "ax3.set_ylabel('Amount')\n",
    "plt.show()\n"
   ]
  },
  {
   "cell_type": "markdown",
   "id": "29b39f06",
   "metadata": {},
   "source": [
    "There doesn't seem to be any correlation between butter and the desserts' rating, but there seems to be a slight negative correlation for flour (less flour --> better rating) and a slight positive correlation for chocolate chips."
   ]
  },
  {
   "cell_type": "code",
   "execution_count": null,
   "id": "cef9a457",
   "metadata": {},
   "outputs": [],
   "source": [
    "## code here\n",
    "\n"
   ]
  },
  {
   "cell_type": "markdown",
   "id": "790d2ca0",
   "metadata": {},
   "source": [
    "--------------------------\n",
    "\n",
    "This notebook was written for the Erd&#337;s Institute C&#337;de Data Science Boot Camp by Matthew Osborne, Ph. D., 2023.\n",
    "\n",
    "Any potential redistributors must seek and receive permission from Matthew Tyler Osborne, Ph.D. prior to redistribution. Redistribution of the material contained in this repository is conditional on acknowledgement of Matthew Tyler Osborne, Ph.D.'s original authorship and sponsorship of the Erdős Institute as subject to the license (see License.md)"
   ]
  },
  {
   "cell_type": "code",
   "execution_count": null,
   "id": "12839298",
   "metadata": {},
   "outputs": [],
   "source": []
  }
 ],
 "metadata": {
  "kernelspec": {
   "display_name": "Python 3 (ipykernel)",
   "language": "python",
   "name": "python3"
  },
  "language_info": {
   "codemirror_mode": {
    "name": "ipython",
    "version": 3
   },
   "file_extension": ".py",
   "mimetype": "text/x-python",
   "name": "python",
   "nbconvert_exporter": "python",
   "pygments_lexer": "ipython3",
   "version": "3.11.4"
  }
 },
 "nbformat": 4,
 "nbformat_minor": 5
}
